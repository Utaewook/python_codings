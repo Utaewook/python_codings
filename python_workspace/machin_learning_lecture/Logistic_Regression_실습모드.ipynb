{
  "nbformat": 4,
  "nbformat_minor": 0,
  "metadata": {
    "colab": {
      "name": "Logistic_Regression_실습모드.ipynb",
      "provenance": [],
      "collapsed_sections": []
    },
    "kernelspec": {
      "name": "python3",
      "display_name": "Python 3"
    },
    "language_info": {
      "name": "python"
    }
  },
  "cells": [
    {
      "cell_type": "markdown",
      "metadata": {
        "id": "ffY45VE2QjEG"
      },
      "source": [
        "# Logistic Regression : Single-variable"
      ]
    },
    {
      "cell_type": "code",
      "metadata": {
        "id": "5rjy6J5eMIoF"
      },
      "source": [
        "import numpy as np"
      ],
      "execution_count": null,
      "outputs": []
    },
    {
      "cell_type": "code",
      "metadata": {
        "colab": {
          "base_uri": "https://localhost:8080/"
        },
        "id": "PGxlqYXlQmZa",
        "outputId": "1684fa1d-19c4-4806-d6d0-e52ce182139b"
      },
      "source": [
        "x_data = np.array([2,4,6,8,10,12,14,16,18,20]).reshape(10,1)\n",
        "t_data = np.array([0,0,0,0,0,0,1,1,1,1]).reshape(10,1)\n",
        "\n",
        "print(\"X_data = \", x_data.shape, \", t_data.shape = \", t_data.shape)"
      ],
      "execution_count": null,
      "outputs": [
        {
          "output_type": "stream",
          "name": "stdout",
          "text": [
            "X_data =  (10, 1) , t_data.shape =  (10, 1)\n"
          ]
        }
      ]
    },
    {
      "cell_type": "code",
      "metadata": {
        "colab": {
          "base_uri": "https://localhost:8080/"
        },
        "id": "zSlIuRZ5QyDM",
        "outputId": "997a740c-5ffe-44f0-c36b-4f6fd78f8c03"
      },
      "source": [
        "W = np.random.rand(1, 1)\n",
        "b = np.random.rand(1)\n",
        "\n",
        "print('W = ', W, \", W.shape = \", W.shape, \", b = \", b, \", b.shape = \", b.shape)"
      ],
      "execution_count": null,
      "outputs": [
        {
          "output_type": "stream",
          "name": "stdout",
          "text": [
            "W =  [[0.04708766]] , W.shape =  (1, 1) , b =  [0.83981154] , b.shape =  (1,)\n"
          ]
        }
      ]
    },
    {
      "cell_type": "code",
      "metadata": {
        "id": "q4BHT0_iQzxz"
      },
      "source": [
        "def sigmoid(x):\n",
        "  return 1 / (1 + np.exp(-x))"
      ],
      "execution_count": null,
      "outputs": []
    },
    {
      "cell_type": "code",
      "metadata": {
        "id": "Tc7BRXhAQ4hv"
      },
      "source": [
        "def loss_func(x, t):\n",
        "  delta = 1e-7\n",
        "\n",
        "  z = np.dot(x, W) + b\n",
        "  y = sigmoid(z)\n",
        "\n",
        "  return -np.sum(t * np.log(y + delta) + (1 - t) * np.log((1 - y) + delta))"
      ],
      "execution_count": null,
      "outputs": []
    },
    {
      "cell_type": "code",
      "metadata": {
        "id": "uZlz0HlvQ8AE"
      },
      "source": [
        "def numerical_derivative(f, x):\n",
        "  delta_x = 1e-4\n",
        "  grad = np.zeros_like(x)\n",
        "\n",
        "  it = np.nditer(x, flags = ['multi_index'], op_flags = ['readwrite'])\n",
        "\n",
        "  while not it.finished:\n",
        "    idx = it.multi_index\n",
        "    tmp_val = x[idx]\n",
        "    x[idx] = float(tmp_val) + delta_x\n",
        "    fx1 = f(x)\n",
        "\n",
        "    x[idx] = tmp_val - delta_x\n",
        "    fx2 = f(x)\n",
        "    grad[idx] = (fx1 - fx2) / (2 * delta_x)\n",
        "\n",
        "    x[idx] = tmp_val\n",
        "    it.iternext()\n",
        "  return grad"
      ],
      "execution_count": null,
      "outputs": []
    },
    {
      "cell_type": "code",
      "metadata": {
        "id": "046xTA7kRJQ8"
      },
      "source": [
        "def error_val(x, t):\n",
        "  delta = 1e-7\n",
        "\n",
        "  z = np.dot(x, W) + b\n",
        "  y = sigmoid(z)  \n",
        "  return -np.sum(t * np.log(y + delta) + (1 - t) * np.log((1 - y) + delta))\n",
        "\n",
        "def predict(x):\n",
        "  z = np.dot(x, W) + b\n",
        "  y = sigmoid(z)  \n",
        "\n",
        "  if y >= 0.5:\n",
        "    result = 1\n",
        "  else:\n",
        "    result = 0\n",
        "  return y, result"
      ],
      "execution_count": null,
      "outputs": []
    },
    {
      "cell_type": "code",
      "metadata": {
        "colab": {
          "base_uri": "https://localhost:8080/"
        },
        "id": "3hLf9NUHRbsh",
        "outputId": "ce0caccc-7b0a-43e7-a6b7-253dda11a995"
      },
      "source": [
        "learning_rate = 1e-2\n",
        "f = lambda x : loss_func(x_data, t_data)\n",
        "\n",
        "print('Initial error value = ', error_val(x_data, t_data))\n",
        "print('Initial W = ', W, ', b = ', b)\n",
        "\n",
        "for step in range(10001):\n",
        "  W -= learning_rate * numerical_derivative(f, W)\n",
        "  b -= learning_rate * numerical_derivative(f, b)\n",
        "\n",
        "  if (step % 400 == 0):\n",
        "    print(\"step = \", step, \"error value = \", error_val(x_data, t_data), \"W = \", W, \", b = \", b)"
      ],
      "execution_count": null,
      "outputs": [
        {
          "output_type": "stream",
          "name": "stdout",
          "text": [
            "Initial error value =  9.365225529584198\n",
            "Initial W =  [[0.04708766]] , b =  [0.83981154]\n",
            "step =  0 error value =  12.113743359958523 W =  [[-0.16931854]] , b =  [0.84972851]\n",
            "step =  400 error value =  2.8366069463672923 W =  [[0.27555882]] , b =  [-4.0826065]\n",
            "step =  800 error value =  1.78683137407411 W =  [[0.4525711]] , b =  [-5.6305056]\n",
            "step =  1200 error value =  1.5197057372156595 W =  [[0.53010421]] , b =  [-6.66293724]\n",
            "step =  1600 error value =  1.353623032949325 W =  [[0.59147018]] , b =  [-7.47784845]\n",
            "step =  2000 error value =  1.2368356981396482 W =  [[0.64305705]] , b =  [-8.16139704]\n",
            "step =  2400 error value =  1.1484816884690265 W =  [[0.68800937]] , b =  [-8.75597559]\n",
            "step =  2800 error value =  1.0783224294164016 W =  [[0.72812462]] , b =  [-9.28579448]\n",
            "step =  3200 error value =  1.0206619624124402 W =  [[0.76453441]] , b =  [-9.7660797]\n",
            "step =  3600 error value =  0.9720420764318888 W =  [[0.79800121]] , b =  [-10.20707858]\n",
            "step =  4000 error value =  0.9302230837203481 W =  [[0.82906528]] , b =  [-10.61604399]\n",
            "step =  4400 error value =  0.8936804762321745 W =  [[0.85812462]] , b =  [-10.99831328]\n",
            "step =  4800 error value =  0.8613347128147792 W =  [[0.88548168]] , b =  [-11.35793794]\n",
            "step =  5200 error value =  0.8323963443785788 W =  [[0.91137214]] , b =  [-11.69807224]\n",
            "step =  5600 error value =  0.8062724310776676 W =  [[0.93598359]] , b =  [-12.0212242]\n",
            "step =  6000 error value =  0.7825074771793094 W =  [[0.95946798]] , b =  [-12.32942372]\n",
            "step =  6400 error value =  0.7607447633187109 W =  [[0.98195028]] , b =  [-12.624339]\n",
            "step =  6800 error value =  0.7407002311484889 W =  [[1.00353466]] , b =  [-12.90735914]\n",
            "step =  7200 error value =  0.7221443653481189 W =  [[1.02430891]] , b =  [-13.17965426]\n",
            "step =  7600 error value =  0.7048893262029008 W =  [[1.04434779]] , b =  [-13.44222012]\n",
            "step =  8000 error value =  0.6887796210576338 W =  [[1.06371554]] , b =  [-13.69591174]\n",
            "step =  8400 error value =  0.6736852168191114 W =  [[1.08246782]] , b =  [-13.94146932]\n",
            "step =  8800 error value =  0.6594963712406168 W =  [[1.10065318]] , b =  [-14.17953829]\n",
            "step =  9200 error value =  0.6461196969045909 W =  [[1.11831425]] , b =  [-14.41068516]\n",
            "step =  9600 error value =  0.6334751240526919 W =  [[1.13548871]] , b =  [-14.63541019]\n",
            "step =  10000 error value =  0.6214935287251563 W =  [[1.15221002]] , b =  [-14.85415753]\n"
          ]
        }
      ]
    },
    {
      "cell_type": "code",
      "metadata": {
        "colab": {
          "base_uri": "https://localhost:8080/"
        },
        "id": "vPoNUpDgVUvT",
        "outputId": "736bbd5c-3aeb-4166-b7ff-d704f02233e8"
      },
      "source": [
        "(real_val, logical_val) = predict(3)\n",
        "print(real_val, logical_val)"
      ],
      "execution_count": null,
      "outputs": [
        {
          "output_type": "stream",
          "name": "stdout",
          "text": [
            "[[1.12230743e-05]] 0\n"
          ]
        }
      ]
    },
    {
      "cell_type": "markdown",
      "metadata": {
        "id": "jn7om1J3WGUl"
      },
      "source": [
        "# Logistic Regression : Multi-variable"
      ]
    },
    {
      "cell_type": "code",
      "metadata": {
        "colab": {
          "base_uri": "https://localhost:8080/"
        },
        "id": "dabaN4EVVZtS",
        "outputId": "1d8151e4-4a1a-4bf8-dd68-95432348aba8"
      },
      "source": [
        "x_data = np.array([[2,4],[4,11],[6,6],[8,5],[10,7],[12,16],[14,8],[16,3],[18,7]])\n",
        "t_data = np.array([0,0,0,0,0,1,1,1,1]).reshape(9,1)\n",
        "\n",
        "print(\"X_data = \", x_data.shape, \", t_data.shape = \", t_data.shape)"
      ],
      "execution_count": null,
      "outputs": [
        {
          "output_type": "stream",
          "name": "stdout",
          "text": [
            "X_data =  (9, 2) , t_data.shape =  (9, 1)\n"
          ]
        }
      ]
    },
    {
      "cell_type": "code",
      "metadata": {
        "colab": {
          "base_uri": "https://localhost:8080/"
        },
        "id": "Xrxj8LG9Wa46",
        "outputId": "d480a1b0-84a1-4232-e65d-9571dbc51b44"
      },
      "source": [
        "W = np.random.rand(2, 1)\n",
        "b = np.random.rand(1)\n",
        "\n",
        "print('W = ', W, \", W.shape = \", W.shape, \", b = \", b, \", b.shape = \", b.shape)"
      ],
      "execution_count": null,
      "outputs": [
        {
          "output_type": "stream",
          "name": "stdout",
          "text": [
            "W =  [[0.95508784]\n",
            " [0.02091209]] , W.shape =  (2, 1) , b =  [0.26750551] , b.shape =  (1,)\n"
          ]
        }
      ]
    },
    {
      "cell_type": "code",
      "metadata": {
        "colab": {
          "base_uri": "https://localhost:8080/"
        },
        "id": "hdsDfOTLWfPP",
        "outputId": "7c80e6d8-8eda-4977-ea22-065578204af7"
      },
      "source": [
        "test_data = np.array([3, 17])\n",
        "predict(test_data)"
      ],
      "execution_count": null,
      "outputs": [
        {
          "output_type": "execute_result",
          "data": {
            "text/plain": [
              "(array([0.9703523]), 1)"
            ]
          },
          "metadata": {},
          "execution_count": 35
        }
      ]
    },
    {
      "cell_type": "markdown",
      "metadata": {
        "id": "ONkkd1IqXCo9"
      },
      "source": [
        ">> ### 실습. 아래의 망막 데이터의 질병 유무를 분류하라."
      ]
    },
    {
      "cell_type": "code",
      "metadata": {
        "colab": {
          "base_uri": "https://localhost:8080/"
        },
        "id": "WCNDATq2WjIv",
        "outputId": "a4f78e22-f3c5-4845-8460-f66a4bd92a52"
      },
      "source": [
        "cd /content/drive/MyDrive/Colab Notebooks/2021_2학기_데이터분석과머신러닝/LinearRegression_LogisticRegression"
      ],
      "execution_count": null,
      "outputs": [
        {
          "output_type": "stream",
          "name": "stdout",
          "text": [
            "/content/drive/MyDrive/Colab Notebooks/2021_2학기_데이터분석과머신러닝/LinearRegression_LogisticRegression\n"
          ]
        }
      ]
    },
    {
      "cell_type": "code",
      "metadata": {
        "id": "PlIaG1jYXO4r"
      },
      "source": [
        "import pandas as pd"
      ],
      "execution_count": null,
      "outputs": []
    },
    {
      "cell_type": "code",
      "metadata": {
        "colab": {
          "base_uri": "https://localhost:8080/",
          "height": 329
        },
        "id": "kuFYDySUXQqF",
        "outputId": "87039f89-4c48-4819-f99e-3e971c5ae72c"
      },
      "source": [
        "train_df = pd.read_csv('RFMiD_Train_SET.csv')\n",
        "print(train_df.columns)\n",
        "train_df.head()"
      ],
      "execution_count": null,
      "outputs": [
        {
          "output_type": "stream",
          "name": "stdout",
          "text": [
            "Index(['ID', 'Disease_Risk', 'DR', 'ARMD', 'MH', 'DN', 'MYA', 'BRVO', 'TSLN',\n",
            "       'ERM', 'LS', 'MS', 'CSR', 'ODC', 'CRVO', 'TV', 'AH', 'ODP', 'ODE', 'ST',\n",
            "       'AION', 'PT', 'RT', 'RS', 'CRS', 'EDN', 'RPEC', 'MHL', 'RP', 'CWS',\n",
            "       'CB', 'ODPM', 'PRH', 'MNF', 'HR', 'CRAO', 'TD', 'CME', 'PTCR', 'CF',\n",
            "       'VH', 'MCA', 'VS', 'BRAO', 'PLQ', 'HPED', 'CL'],\n",
            "      dtype='object')\n"
          ]
        },
        {
          "output_type": "execute_result",
          "data": {
            "text/html": [
              "<div>\n",
              "<style scoped>\n",
              "    .dataframe tbody tr th:only-of-type {\n",
              "        vertical-align: middle;\n",
              "    }\n",
              "\n",
              "    .dataframe tbody tr th {\n",
              "        vertical-align: top;\n",
              "    }\n",
              "\n",
              "    .dataframe thead th {\n",
              "        text-align: right;\n",
              "    }\n",
              "</style>\n",
              "<table border=\"1\" class=\"dataframe\">\n",
              "  <thead>\n",
              "    <tr style=\"text-align: right;\">\n",
              "      <th></th>\n",
              "      <th>ID</th>\n",
              "      <th>Disease_Risk</th>\n",
              "      <th>DR</th>\n",
              "      <th>ARMD</th>\n",
              "      <th>MH</th>\n",
              "      <th>DN</th>\n",
              "      <th>MYA</th>\n",
              "      <th>BRVO</th>\n",
              "      <th>TSLN</th>\n",
              "      <th>ERM</th>\n",
              "      <th>LS</th>\n",
              "      <th>MS</th>\n",
              "      <th>CSR</th>\n",
              "      <th>ODC</th>\n",
              "      <th>CRVO</th>\n",
              "      <th>TV</th>\n",
              "      <th>AH</th>\n",
              "      <th>ODP</th>\n",
              "      <th>ODE</th>\n",
              "      <th>ST</th>\n",
              "      <th>AION</th>\n",
              "      <th>PT</th>\n",
              "      <th>RT</th>\n",
              "      <th>RS</th>\n",
              "      <th>CRS</th>\n",
              "      <th>EDN</th>\n",
              "      <th>RPEC</th>\n",
              "      <th>MHL</th>\n",
              "      <th>RP</th>\n",
              "      <th>CWS</th>\n",
              "      <th>CB</th>\n",
              "      <th>ODPM</th>\n",
              "      <th>PRH</th>\n",
              "      <th>MNF</th>\n",
              "      <th>HR</th>\n",
              "      <th>CRAO</th>\n",
              "      <th>TD</th>\n",
              "      <th>CME</th>\n",
              "      <th>PTCR</th>\n",
              "      <th>CF</th>\n",
              "      <th>VH</th>\n",
              "      <th>MCA</th>\n",
              "      <th>VS</th>\n",
              "      <th>BRAO</th>\n",
              "      <th>PLQ</th>\n",
              "      <th>HPED</th>\n",
              "      <th>CL</th>\n",
              "    </tr>\n",
              "  </thead>\n",
              "  <tbody>\n",
              "    <tr>\n",
              "      <th>0</th>\n",
              "      <td>1</td>\n",
              "      <td>1</td>\n",
              "      <td>1</td>\n",
              "      <td>0</td>\n",
              "      <td>0</td>\n",
              "      <td>0</td>\n",
              "      <td>0</td>\n",
              "      <td>0</td>\n",
              "      <td>1</td>\n",
              "      <td>0</td>\n",
              "      <td>0</td>\n",
              "      <td>0</td>\n",
              "      <td>0</td>\n",
              "      <td>0</td>\n",
              "      <td>0</td>\n",
              "      <td>0</td>\n",
              "      <td>0</td>\n",
              "      <td>0</td>\n",
              "      <td>0</td>\n",
              "      <td>0</td>\n",
              "      <td>0</td>\n",
              "      <td>0</td>\n",
              "      <td>0</td>\n",
              "      <td>0</td>\n",
              "      <td>0</td>\n",
              "      <td>0</td>\n",
              "      <td>0</td>\n",
              "      <td>0</td>\n",
              "      <td>0</td>\n",
              "      <td>0</td>\n",
              "      <td>0</td>\n",
              "      <td>0</td>\n",
              "      <td>0</td>\n",
              "      <td>0</td>\n",
              "      <td>0</td>\n",
              "      <td>0</td>\n",
              "      <td>0</td>\n",
              "      <td>0</td>\n",
              "      <td>0</td>\n",
              "      <td>0</td>\n",
              "      <td>0</td>\n",
              "      <td>0</td>\n",
              "      <td>0</td>\n",
              "      <td>0</td>\n",
              "      <td>0</td>\n",
              "      <td>0</td>\n",
              "      <td>0</td>\n",
              "    </tr>\n",
              "    <tr>\n",
              "      <th>1</th>\n",
              "      <td>2</td>\n",
              "      <td>1</td>\n",
              "      <td>0</td>\n",
              "      <td>0</td>\n",
              "      <td>0</td>\n",
              "      <td>0</td>\n",
              "      <td>0</td>\n",
              "      <td>0</td>\n",
              "      <td>0</td>\n",
              "      <td>0</td>\n",
              "      <td>1</td>\n",
              "      <td>0</td>\n",
              "      <td>0</td>\n",
              "      <td>0</td>\n",
              "      <td>0</td>\n",
              "      <td>0</td>\n",
              "      <td>0</td>\n",
              "      <td>0</td>\n",
              "      <td>0</td>\n",
              "      <td>0</td>\n",
              "      <td>0</td>\n",
              "      <td>0</td>\n",
              "      <td>0</td>\n",
              "      <td>0</td>\n",
              "      <td>0</td>\n",
              "      <td>0</td>\n",
              "      <td>0</td>\n",
              "      <td>0</td>\n",
              "      <td>0</td>\n",
              "      <td>0</td>\n",
              "      <td>0</td>\n",
              "      <td>0</td>\n",
              "      <td>0</td>\n",
              "      <td>0</td>\n",
              "      <td>0</td>\n",
              "      <td>0</td>\n",
              "      <td>0</td>\n",
              "      <td>0</td>\n",
              "      <td>0</td>\n",
              "      <td>0</td>\n",
              "      <td>0</td>\n",
              "      <td>0</td>\n",
              "      <td>0</td>\n",
              "      <td>0</td>\n",
              "      <td>0</td>\n",
              "      <td>0</td>\n",
              "      <td>0</td>\n",
              "    </tr>\n",
              "    <tr>\n",
              "      <th>2</th>\n",
              "      <td>3</td>\n",
              "      <td>1</td>\n",
              "      <td>0</td>\n",
              "      <td>0</td>\n",
              "      <td>0</td>\n",
              "      <td>0</td>\n",
              "      <td>0</td>\n",
              "      <td>0</td>\n",
              "      <td>0</td>\n",
              "      <td>0</td>\n",
              "      <td>1</td>\n",
              "      <td>0</td>\n",
              "      <td>0</td>\n",
              "      <td>0</td>\n",
              "      <td>0</td>\n",
              "      <td>0</td>\n",
              "      <td>0</td>\n",
              "      <td>0</td>\n",
              "      <td>0</td>\n",
              "      <td>0</td>\n",
              "      <td>0</td>\n",
              "      <td>0</td>\n",
              "      <td>0</td>\n",
              "      <td>0</td>\n",
              "      <td>0</td>\n",
              "      <td>0</td>\n",
              "      <td>0</td>\n",
              "      <td>0</td>\n",
              "      <td>0</td>\n",
              "      <td>0</td>\n",
              "      <td>0</td>\n",
              "      <td>0</td>\n",
              "      <td>0</td>\n",
              "      <td>0</td>\n",
              "      <td>0</td>\n",
              "      <td>0</td>\n",
              "      <td>0</td>\n",
              "      <td>0</td>\n",
              "      <td>0</td>\n",
              "      <td>0</td>\n",
              "      <td>0</td>\n",
              "      <td>0</td>\n",
              "      <td>0</td>\n",
              "      <td>0</td>\n",
              "      <td>0</td>\n",
              "      <td>0</td>\n",
              "      <td>0</td>\n",
              "    </tr>\n",
              "    <tr>\n",
              "      <th>3</th>\n",
              "      <td>4</td>\n",
              "      <td>1</td>\n",
              "      <td>0</td>\n",
              "      <td>0</td>\n",
              "      <td>0</td>\n",
              "      <td>0</td>\n",
              "      <td>0</td>\n",
              "      <td>0</td>\n",
              "      <td>0</td>\n",
              "      <td>0</td>\n",
              "      <td>1</td>\n",
              "      <td>0</td>\n",
              "      <td>0</td>\n",
              "      <td>0</td>\n",
              "      <td>0</td>\n",
              "      <td>0</td>\n",
              "      <td>0</td>\n",
              "      <td>0</td>\n",
              "      <td>0</td>\n",
              "      <td>0</td>\n",
              "      <td>0</td>\n",
              "      <td>0</td>\n",
              "      <td>0</td>\n",
              "      <td>0</td>\n",
              "      <td>0</td>\n",
              "      <td>0</td>\n",
              "      <td>0</td>\n",
              "      <td>0</td>\n",
              "      <td>0</td>\n",
              "      <td>0</td>\n",
              "      <td>0</td>\n",
              "      <td>0</td>\n",
              "      <td>0</td>\n",
              "      <td>0</td>\n",
              "      <td>0</td>\n",
              "      <td>0</td>\n",
              "      <td>0</td>\n",
              "      <td>0</td>\n",
              "      <td>0</td>\n",
              "      <td>0</td>\n",
              "      <td>0</td>\n",
              "      <td>0</td>\n",
              "      <td>0</td>\n",
              "      <td>0</td>\n",
              "      <td>0</td>\n",
              "      <td>0</td>\n",
              "      <td>0</td>\n",
              "    </tr>\n",
              "    <tr>\n",
              "      <th>4</th>\n",
              "      <td>5</td>\n",
              "      <td>1</td>\n",
              "      <td>0</td>\n",
              "      <td>0</td>\n",
              "      <td>0</td>\n",
              "      <td>0</td>\n",
              "      <td>0</td>\n",
              "      <td>0</td>\n",
              "      <td>0</td>\n",
              "      <td>0</td>\n",
              "      <td>1</td>\n",
              "      <td>0</td>\n",
              "      <td>0</td>\n",
              "      <td>0</td>\n",
              "      <td>0</td>\n",
              "      <td>0</td>\n",
              "      <td>0</td>\n",
              "      <td>0</td>\n",
              "      <td>0</td>\n",
              "      <td>0</td>\n",
              "      <td>0</td>\n",
              "      <td>0</td>\n",
              "      <td>0</td>\n",
              "      <td>0</td>\n",
              "      <td>0</td>\n",
              "      <td>0</td>\n",
              "      <td>0</td>\n",
              "      <td>0</td>\n",
              "      <td>0</td>\n",
              "      <td>0</td>\n",
              "      <td>0</td>\n",
              "      <td>0</td>\n",
              "      <td>0</td>\n",
              "      <td>0</td>\n",
              "      <td>0</td>\n",
              "      <td>0</td>\n",
              "      <td>0</td>\n",
              "      <td>0</td>\n",
              "      <td>0</td>\n",
              "      <td>0</td>\n",
              "      <td>0</td>\n",
              "      <td>0</td>\n",
              "      <td>0</td>\n",
              "      <td>0</td>\n",
              "      <td>0</td>\n",
              "      <td>0</td>\n",
              "      <td>0</td>\n",
              "    </tr>\n",
              "  </tbody>\n",
              "</table>\n",
              "</div>"
            ],
            "text/plain": [
              "   ID  Disease_Risk  DR  ARMD  MH  DN  MYA  ...  VH  MCA  VS  BRAO  PLQ  HPED  CL\n",
              "0   1             1   1     0   0   0    0  ...   0    0   0     0    0     0   0\n",
              "1   2             1   0     0   0   0    0  ...   0    0   0     0    0     0   0\n",
              "2   3             1   0     0   0   0    0  ...   0    0   0     0    0     0   0\n",
              "3   4             1   0     0   0   0    0  ...   0    0   0     0    0     0   0\n",
              "4   5             1   0     0   0   0    0  ...   0    0   0     0    0     0   0\n",
              "\n",
              "[5 rows x 47 columns]"
            ]
          },
          "metadata": {},
          "execution_count": 79
        }
      ]
    },
    {
      "cell_type": "code",
      "metadata": {
        "colab": {
          "base_uri": "https://localhost:8080/"
        },
        "id": "5QsSs_b9Xffu",
        "outputId": "3fb54127-e49c-48cc-f75f-c364a953f208"
      },
      "source": [
        "train_x_data = train_df.iloc[:, 2:].values\n",
        "train_t_data = train_df.iloc[:, [1]].values\n",
        "print(\"x_data.ndim = \", train_x_data.ndim, \", x_data.shape = \", train_x_data.shape)\n",
        "print(\"t_data.ndim = \", train_t_data.ndim, \", t_data.shape = \", train_t_data.shape)"
      ],
      "execution_count": null,
      "outputs": [
        {
          "output_type": "stream",
          "name": "stdout",
          "text": [
            "x_data.ndim =  2 , x_data.shape =  (599, 45)\n",
            "t_data.ndim =  2 , t_data.shape =  (599, 1)\n"
          ]
        }
      ]
    },
    {
      "cell_type": "code",
      "metadata": {
        "colab": {
          "base_uri": "https://localhost:8080/"
        },
        "id": "pjCOhfCsX3Un",
        "outputId": "d1acf658-8c8a-40f7-81a5-5652b20278e9"
      },
      "source": [
        "test_data = np.array([1,0,0,0,0,0,1,0,0,0,0,0,0,0,0,0,0,0,0,0,0,0,0,0,0,0,0,0,0,0,0,0,0,0,0,0,0,0,0,0,0,0,0,0,0])\n",
        "predict(test_data)"
      ],
      "execution_count": null,
      "outputs": [
        {
          "output_type": "execute_result",
          "data": {
            "text/plain": [
              "(array([0.9223486]), 1)"
            ]
          },
          "metadata": {},
          "execution_count": 84
        }
      ]
    },
    {
      "cell_type": "markdown",
      "metadata": {
        "id": "erHO2XbCZ3QR"
      },
      "source": [
        ">> ### 실습. RFMiD_Test_SET.csv에 있는 데이터를 Pandas로 로드한 후, 위 모델에 검증 해보기.\n",
        "\n",
        "1) 정확도 구하기 : RFMiD_Test_SET.csv에서 정답 값들과 예측을 통해 나온 분류 결과를 비교해서 구할것.   \n",
        "(예측값 == 실제값) good_count++   \n",
        "good_count / len(실제값)   "
      ]
    },
    {
      "cell_type": "code",
      "metadata": {
        "colab": {
          "base_uri": "https://localhost:8080/",
          "height": 329
        },
        "id": "Pby99og7Yh9Q",
        "outputId": "e1d3aefd-5810-4eb8-f25f-aa6cba40482b"
      },
      "source": [
        "test_df = pd.read_csv('RFMiD_Test_SET.csv')\n",
        "print(test_df.columns)\n",
        "test_df.head()"
      ],
      "execution_count": null,
      "outputs": [
        {
          "output_type": "stream",
          "name": "stdout",
          "text": [
            "Index(['ID', 'Disease_Risk', 'DR', 'ARMD', 'MH', 'DN', 'MYA', 'BRVO', 'TSLN',\n",
            "       'ERM', 'LS', 'MS', 'CSR', 'ODC', 'CRVO', 'TV', 'AH', 'ODP', 'ODE', 'ST',\n",
            "       'AION', 'PT', 'RT', 'RS', 'CRS', 'EDN', 'RPEC', 'MHL', 'RP', 'CWS',\n",
            "       'CB', 'ODPM', 'PRH', 'MNF', 'HR', 'CRAO', 'TD', 'CME', 'PTCR', 'CF',\n",
            "       'VH', 'MCA', 'VS', 'BRAO', 'PLQ', 'HPED', 'CL'],\n",
            "      dtype='object')\n"
          ]
        },
        {
          "output_type": "execute_result",
          "data": {
            "text/html": [
              "<div>\n",
              "<style scoped>\n",
              "    .dataframe tbody tr th:only-of-type {\n",
              "        vertical-align: middle;\n",
              "    }\n",
              "\n",
              "    .dataframe tbody tr th {\n",
              "        vertical-align: top;\n",
              "    }\n",
              "\n",
              "    .dataframe thead th {\n",
              "        text-align: right;\n",
              "    }\n",
              "</style>\n",
              "<table border=\"1\" class=\"dataframe\">\n",
              "  <thead>\n",
              "    <tr style=\"text-align: right;\">\n",
              "      <th></th>\n",
              "      <th>ID</th>\n",
              "      <th>Disease_Risk</th>\n",
              "      <th>DR</th>\n",
              "      <th>ARMD</th>\n",
              "      <th>MH</th>\n",
              "      <th>DN</th>\n",
              "      <th>MYA</th>\n",
              "      <th>BRVO</th>\n",
              "      <th>TSLN</th>\n",
              "      <th>ERM</th>\n",
              "      <th>LS</th>\n",
              "      <th>MS</th>\n",
              "      <th>CSR</th>\n",
              "      <th>ODC</th>\n",
              "      <th>CRVO</th>\n",
              "      <th>TV</th>\n",
              "      <th>AH</th>\n",
              "      <th>ODP</th>\n",
              "      <th>ODE</th>\n",
              "      <th>ST</th>\n",
              "      <th>AION</th>\n",
              "      <th>PT</th>\n",
              "      <th>RT</th>\n",
              "      <th>RS</th>\n",
              "      <th>CRS</th>\n",
              "      <th>EDN</th>\n",
              "      <th>RPEC</th>\n",
              "      <th>MHL</th>\n",
              "      <th>RP</th>\n",
              "      <th>CWS</th>\n",
              "      <th>CB</th>\n",
              "      <th>ODPM</th>\n",
              "      <th>PRH</th>\n",
              "      <th>MNF</th>\n",
              "      <th>HR</th>\n",
              "      <th>CRAO</th>\n",
              "      <th>TD</th>\n",
              "      <th>CME</th>\n",
              "      <th>PTCR</th>\n",
              "      <th>CF</th>\n",
              "      <th>VH</th>\n",
              "      <th>MCA</th>\n",
              "      <th>VS</th>\n",
              "      <th>BRAO</th>\n",
              "      <th>PLQ</th>\n",
              "      <th>HPED</th>\n",
              "      <th>CL</th>\n",
              "    </tr>\n",
              "  </thead>\n",
              "  <tbody>\n",
              "    <tr>\n",
              "      <th>0</th>\n",
              "      <td>1</td>\n",
              "      <td>1</td>\n",
              "      <td>0</td>\n",
              "      <td>0</td>\n",
              "      <td>0</td>\n",
              "      <td>0</td>\n",
              "      <td>0</td>\n",
              "      <td>0</td>\n",
              "      <td>1</td>\n",
              "      <td>0</td>\n",
              "      <td>0</td>\n",
              "      <td>0</td>\n",
              "      <td>0</td>\n",
              "      <td>0</td>\n",
              "      <td>0</td>\n",
              "      <td>0</td>\n",
              "      <td>0</td>\n",
              "      <td>0</td>\n",
              "      <td>0</td>\n",
              "      <td>0</td>\n",
              "      <td>0</td>\n",
              "      <td>0</td>\n",
              "      <td>0</td>\n",
              "      <td>0</td>\n",
              "      <td>0</td>\n",
              "      <td>0</td>\n",
              "      <td>0</td>\n",
              "      <td>0</td>\n",
              "      <td>0</td>\n",
              "      <td>0</td>\n",
              "      <td>0</td>\n",
              "      <td>0</td>\n",
              "      <td>0</td>\n",
              "      <td>0</td>\n",
              "      <td>0</td>\n",
              "      <td>0</td>\n",
              "      <td>0</td>\n",
              "      <td>0</td>\n",
              "      <td>0</td>\n",
              "      <td>0</td>\n",
              "      <td>0</td>\n",
              "      <td>0</td>\n",
              "      <td>0</td>\n",
              "      <td>0</td>\n",
              "      <td>0</td>\n",
              "      <td>0</td>\n",
              "      <td>0</td>\n",
              "    </tr>\n",
              "    <tr>\n",
              "      <th>1</th>\n",
              "      <td>2</td>\n",
              "      <td>1</td>\n",
              "      <td>0</td>\n",
              "      <td>0</td>\n",
              "      <td>0</td>\n",
              "      <td>0</td>\n",
              "      <td>0</td>\n",
              "      <td>0</td>\n",
              "      <td>0</td>\n",
              "      <td>0</td>\n",
              "      <td>0</td>\n",
              "      <td>0</td>\n",
              "      <td>0</td>\n",
              "      <td>0</td>\n",
              "      <td>0</td>\n",
              "      <td>0</td>\n",
              "      <td>0</td>\n",
              "      <td>1</td>\n",
              "      <td>0</td>\n",
              "      <td>0</td>\n",
              "      <td>0</td>\n",
              "      <td>0</td>\n",
              "      <td>0</td>\n",
              "      <td>0</td>\n",
              "      <td>0</td>\n",
              "      <td>0</td>\n",
              "      <td>0</td>\n",
              "      <td>0</td>\n",
              "      <td>0</td>\n",
              "      <td>0</td>\n",
              "      <td>0</td>\n",
              "      <td>0</td>\n",
              "      <td>0</td>\n",
              "      <td>0</td>\n",
              "      <td>0</td>\n",
              "      <td>0</td>\n",
              "      <td>0</td>\n",
              "      <td>0</td>\n",
              "      <td>0</td>\n",
              "      <td>0</td>\n",
              "      <td>0</td>\n",
              "      <td>0</td>\n",
              "      <td>0</td>\n",
              "      <td>0</td>\n",
              "      <td>0</td>\n",
              "      <td>0</td>\n",
              "      <td>0</td>\n",
              "    </tr>\n",
              "    <tr>\n",
              "      <th>2</th>\n",
              "      <td>3</td>\n",
              "      <td>1</td>\n",
              "      <td>0</td>\n",
              "      <td>0</td>\n",
              "      <td>0</td>\n",
              "      <td>0</td>\n",
              "      <td>0</td>\n",
              "      <td>0</td>\n",
              "      <td>0</td>\n",
              "      <td>0</td>\n",
              "      <td>0</td>\n",
              "      <td>0</td>\n",
              "      <td>0</td>\n",
              "      <td>0</td>\n",
              "      <td>0</td>\n",
              "      <td>0</td>\n",
              "      <td>0</td>\n",
              "      <td>1</td>\n",
              "      <td>0</td>\n",
              "      <td>0</td>\n",
              "      <td>0</td>\n",
              "      <td>0</td>\n",
              "      <td>0</td>\n",
              "      <td>0</td>\n",
              "      <td>0</td>\n",
              "      <td>0</td>\n",
              "      <td>0</td>\n",
              "      <td>0</td>\n",
              "      <td>0</td>\n",
              "      <td>0</td>\n",
              "      <td>0</td>\n",
              "      <td>0</td>\n",
              "      <td>0</td>\n",
              "      <td>0</td>\n",
              "      <td>0</td>\n",
              "      <td>0</td>\n",
              "      <td>0</td>\n",
              "      <td>0</td>\n",
              "      <td>0</td>\n",
              "      <td>0</td>\n",
              "      <td>0</td>\n",
              "      <td>0</td>\n",
              "      <td>0</td>\n",
              "      <td>0</td>\n",
              "      <td>0</td>\n",
              "      <td>0</td>\n",
              "      <td>0</td>\n",
              "    </tr>\n",
              "    <tr>\n",
              "      <th>3</th>\n",
              "      <td>4</td>\n",
              "      <td>1</td>\n",
              "      <td>0</td>\n",
              "      <td>0</td>\n",
              "      <td>0</td>\n",
              "      <td>0</td>\n",
              "      <td>0</td>\n",
              "      <td>0</td>\n",
              "      <td>0</td>\n",
              "      <td>0</td>\n",
              "      <td>0</td>\n",
              "      <td>0</td>\n",
              "      <td>0</td>\n",
              "      <td>0</td>\n",
              "      <td>0</td>\n",
              "      <td>0</td>\n",
              "      <td>0</td>\n",
              "      <td>1</td>\n",
              "      <td>0</td>\n",
              "      <td>0</td>\n",
              "      <td>0</td>\n",
              "      <td>0</td>\n",
              "      <td>0</td>\n",
              "      <td>0</td>\n",
              "      <td>0</td>\n",
              "      <td>0</td>\n",
              "      <td>0</td>\n",
              "      <td>0</td>\n",
              "      <td>0</td>\n",
              "      <td>0</td>\n",
              "      <td>0</td>\n",
              "      <td>0</td>\n",
              "      <td>0</td>\n",
              "      <td>0</td>\n",
              "      <td>0</td>\n",
              "      <td>0</td>\n",
              "      <td>0</td>\n",
              "      <td>0</td>\n",
              "      <td>0</td>\n",
              "      <td>0</td>\n",
              "      <td>0</td>\n",
              "      <td>0</td>\n",
              "      <td>0</td>\n",
              "      <td>0</td>\n",
              "      <td>0</td>\n",
              "      <td>0</td>\n",
              "      <td>0</td>\n",
              "    </tr>\n",
              "    <tr>\n",
              "      <th>4</th>\n",
              "      <td>5</td>\n",
              "      <td>1</td>\n",
              "      <td>0</td>\n",
              "      <td>0</td>\n",
              "      <td>0</td>\n",
              "      <td>0</td>\n",
              "      <td>0</td>\n",
              "      <td>0</td>\n",
              "      <td>0</td>\n",
              "      <td>0</td>\n",
              "      <td>0</td>\n",
              "      <td>0</td>\n",
              "      <td>0</td>\n",
              "      <td>0</td>\n",
              "      <td>0</td>\n",
              "      <td>0</td>\n",
              "      <td>0</td>\n",
              "      <td>1</td>\n",
              "      <td>0</td>\n",
              "      <td>0</td>\n",
              "      <td>0</td>\n",
              "      <td>0</td>\n",
              "      <td>0</td>\n",
              "      <td>0</td>\n",
              "      <td>0</td>\n",
              "      <td>0</td>\n",
              "      <td>0</td>\n",
              "      <td>0</td>\n",
              "      <td>0</td>\n",
              "      <td>0</td>\n",
              "      <td>0</td>\n",
              "      <td>0</td>\n",
              "      <td>0</td>\n",
              "      <td>0</td>\n",
              "      <td>0</td>\n",
              "      <td>0</td>\n",
              "      <td>0</td>\n",
              "      <td>0</td>\n",
              "      <td>0</td>\n",
              "      <td>0</td>\n",
              "      <td>0</td>\n",
              "      <td>0</td>\n",
              "      <td>0</td>\n",
              "      <td>0</td>\n",
              "      <td>0</td>\n",
              "      <td>0</td>\n",
              "      <td>0</td>\n",
              "    </tr>\n",
              "  </tbody>\n",
              "</table>\n",
              "</div>"
            ],
            "text/plain": [
              "   ID  Disease_Risk  DR  ARMD  MH  DN  MYA  ...  VH  MCA  VS  BRAO  PLQ  HPED  CL\n",
              "0   1             1   0     0   0   0    0  ...   0    0   0     0    0     0   0\n",
              "1   2             1   0     0   0   0    0  ...   0    0   0     0    0     0   0\n",
              "2   3             1   0     0   0   0    0  ...   0    0   0     0    0     0   0\n",
              "3   4             1   0     0   0   0    0  ...   0    0   0     0    0     0   0\n",
              "4   5             1   0     0   0   0    0  ...   0    0   0     0    0     0   0\n",
              "\n",
              "[5 rows x 47 columns]"
            ]
          },
          "metadata": {},
          "execution_count": 77
        }
      ]
    },
    {
      "cell_type": "code",
      "metadata": {
        "colab": {
          "base_uri": "https://localhost:8080/"
        },
        "id": "h9Xokc9ObsSD",
        "outputId": "e2b95049-6a8a-409a-90c3-d98d8eca02ba"
      },
      "source": [
        "test_x_data = train_df.iloc[:, 2:].values\n",
        "test_t_data = train_df.iloc[:, [1]].values\n",
        "print(\"x_data.ndim = \", test_x_data.ndim, \", x_data.shape = \", test_x_data.shape)\n",
        "print(\"t_data.ndim = \", test_t_data.ndim, \", t_data.shape = \", test_t_data.shape)"
      ],
      "execution_count": null,
      "outputs": [
        {
          "output_type": "stream",
          "name": "stdout",
          "text": [
            "x_data.ndim =  2 , x_data.shape =  (599, 45)\n",
            "t_data.ndim =  2 , t_data.shape =  (599, 1)\n"
          ]
        }
      ]
    },
    {
      "cell_type": "code",
      "metadata": {
        "id": "5zvxTg7XdBSc"
      },
      "source": [
        ""
      ],
      "execution_count": null,
      "outputs": []
    }
  ]
}